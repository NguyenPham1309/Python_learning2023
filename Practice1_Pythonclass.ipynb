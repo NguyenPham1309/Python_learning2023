{
  "nbformat": 4,
  "nbformat_minor": 0,
  "metadata": {
    "colab": {
      "provenance": [],
      "include_colab_link": true
    },
    "kernelspec": {
      "name": "python3",
      "display_name": "Python 3"
    },
    "language_info": {
      "name": "python"
    }
  },
  "cells": [
    {
      "cell_type": "markdown",
      "metadata": {
        "id": "view-in-github",
        "colab_type": "text"
      },
      "source": [
        "<a href=\"https://colab.research.google.com/github/NguyenPham1309/Python_learning2023/blob/main/Practice1_Pythonclass.ipynb\" target=\"_parent\"><img src=\"https://colab.research.google.com/assets/colab-badge.svg\" alt=\"Open In Colab\"/></a>"
      ]
    },
    {
      "cell_type": "markdown",
      "source": [
        "Below are some exercises for practicing what you learned in class 1\n"
      ],
      "metadata": {
        "id": "YUK1p5RhO92I"
      }
    },
    {
      "cell_type": "markdown",
      "source": [
        "1) write a code that defines variable x and assign 5 to it, and then print it\n"
      ],
      "metadata": {
        "id": "KvqwInWyPMLL"
      }
    },
    {
      "cell_type": "code",
      "source": [
        "# write your code below\n",
        "x = 5\n",
        "print (x)"
      ],
      "metadata": {
        "id": "lGcGjUfvPKo6",
        "colab": {
          "base_uri": "https://localhost:8080/"
        },
        "outputId": "374f43e4-a708-4190-c405-1aaa16364327"
      },
      "execution_count": 1,
      "outputs": [
        {
          "output_type": "stream",
          "name": "stdout",
          "text": [
            "5\n"
          ]
        }
      ]
    },
    {
      "cell_type": "markdown",
      "source": [
        "2) Below we defined two variables as a and b and calculated the sum. why there is an error?"
      ],
      "metadata": {
        "id": "LhHXpjXlPh5b"
      }
    },
    {
      "cell_type": "code",
      "source": [
        " a = 18\n",
        " b = 20\n",
        " sum = A + B #Python is capslock sensitive, A and B have not yet defined"
      ],
      "metadata": {
        "id": "qHc4KuiCPhWu",
        "colab": {
          "base_uri": "https://localhost:8080/",
          "height": 207
        },
        "outputId": "ce7c9263-4152-4568-c7a8-6a2b12a29da0"
      },
      "execution_count": 2,
      "outputs": [
        {
          "output_type": "error",
          "ename": "NameError",
          "evalue": "ignored",
          "traceback": [
            "\u001b[0;31m---------------------------------------------------------------------------\u001b[0m",
            "\u001b[0;31mNameError\u001b[0m                                 Traceback (most recent call last)",
            "\u001b[0;32m<ipython-input-2-98a0cad0ffb1>\u001b[0m in \u001b[0;36m<module>\u001b[0;34m\u001b[0m\n\u001b[1;32m      1\u001b[0m \u001b[0ma\u001b[0m \u001b[0;34m=\u001b[0m \u001b[0;36m18\u001b[0m\u001b[0;34m\u001b[0m\u001b[0;34m\u001b[0m\u001b[0m\n\u001b[1;32m      2\u001b[0m \u001b[0mb\u001b[0m \u001b[0;34m=\u001b[0m \u001b[0;36m20\u001b[0m\u001b[0;34m\u001b[0m\u001b[0;34m\u001b[0m\u001b[0m\n\u001b[0;32m----> 3\u001b[0;31m \u001b[0msum\u001b[0m \u001b[0;34m=\u001b[0m \u001b[0mA\u001b[0m \u001b[0;34m+\u001b[0m \u001b[0mB\u001b[0m\u001b[0;34m\u001b[0m\u001b[0;34m\u001b[0m\u001b[0m\n\u001b[0m",
            "\u001b[0;31mNameError\u001b[0m: name 'A' is not defined"
          ]
        }
      ]
    },
    {
      "cell_type": "markdown",
      "source": [
        "3 ) Below why there is an error?"
      ],
      "metadata": {
        "id": "rAAw2UxeQXQa"
      }
    },
    {
      "cell_type": "code",
      "source": [
        "Print (\"Sam \") #P letter is wrongly capslock"
      ],
      "metadata": {
        "id": "yeZn-EXOPdzb",
        "colab": {
          "base_uri": "https://localhost:8080/",
          "height": 171
        },
        "outputId": "a42e3050-ade5-42bd-e545-93a7d4e9fc07"
      },
      "execution_count": 3,
      "outputs": [
        {
          "output_type": "error",
          "ename": "NameError",
          "evalue": "ignored",
          "traceback": [
            "\u001b[0;31m---------------------------------------------------------------------------\u001b[0m",
            "\u001b[0;31mNameError\u001b[0m                                 Traceback (most recent call last)",
            "\u001b[0;32m<ipython-input-3-0fdcffb939f5>\u001b[0m in \u001b[0;36m<module>\u001b[0;34m\u001b[0m\n\u001b[0;32m----> 1\u001b[0;31m \u001b[0mPrint\u001b[0m \u001b[0;34m(\u001b[0m\u001b[0;34m\"Sam \"\u001b[0m\u001b[0;34m)\u001b[0m\u001b[0;34m\u001b[0m\u001b[0;34m\u001b[0m\u001b[0m\n\u001b[0m",
            "\u001b[0;31mNameError\u001b[0m: name 'Print' is not defined"
          ]
        }
      ]
    },
    {
      "cell_type": "markdown",
      "source": [
        "4) Write a code that asks a user to enter a number. Then prints \"This is your number\" followed by the number entered."
      ],
      "metadata": {
        "id": "FWoXrqKPQjoz"
      }
    },
    {
      "cell_type": "code",
      "source": [
        "# write the code here\n",
        "y = input('Please enter a number: ')\n",
        "print(\"This is your number: \",y)"
      ],
      "metadata": {
        "id": "JUHIemJlQ9QU",
        "colab": {
          "base_uri": "https://localhost:8080/"
        },
        "outputId": "95c8dec4-9d42-4aaa-d881-591b1b6201b7"
      },
      "execution_count": 5,
      "outputs": [
        {
          "output_type": "stream",
          "name": "stdout",
          "text": [
            "Please enter a number: 45\n",
            "This is your number:  45\n"
          ]
        }
      ]
    },
    {
      "cell_type": "markdown",
      "source": [
        "5) Why there is an error below?"
      ],
      "metadata": {
        "id": "h1OYfEPsRBEe"
      }
    },
    {
      "cell_type": "code",
      "source": [
        "name = \"Sara\"\n",
        "print (\"Sara\" + 2) #cannot do sum between string and int"
      ],
      "metadata": {
        "id": "Dh17AXzyRGhH",
        "colab": {
          "base_uri": "https://localhost:8080/",
          "height": 189
        },
        "outputId": "cb06cb71-ddf3-467c-b5e9-b5b41961fa8f"
      },
      "execution_count": 6,
      "outputs": [
        {
          "output_type": "error",
          "ename": "TypeError",
          "evalue": "ignored",
          "traceback": [
            "\u001b[0;31m---------------------------------------------------------------------------\u001b[0m",
            "\u001b[0;31mTypeError\u001b[0m                                 Traceback (most recent call last)",
            "\u001b[0;32m<ipython-input-6-fc8e35c911fa>\u001b[0m in \u001b[0;36m<module>\u001b[0;34m\u001b[0m\n\u001b[1;32m      1\u001b[0m \u001b[0mname\u001b[0m \u001b[0;34m=\u001b[0m \u001b[0;34m\"Sara\"\u001b[0m\u001b[0;34m\u001b[0m\u001b[0;34m\u001b[0m\u001b[0m\n\u001b[0;32m----> 2\u001b[0;31m \u001b[0mprint\u001b[0m \u001b[0;34m(\u001b[0m\u001b[0;34m\"Sara\"\u001b[0m \u001b[0;34m+\u001b[0m \u001b[0;36m2\u001b[0m\u001b[0;34m)\u001b[0m\u001b[0;34m\u001b[0m\u001b[0;34m\u001b[0m\u001b[0m\n\u001b[0m",
            "\u001b[0;31mTypeError\u001b[0m: can only concatenate str (not \"int\") to str"
          ]
        }
      ]
    },
    {
      "cell_type": "markdown",
      "source": [
        "6) write a code that identifies the type of variable x"
      ],
      "metadata": {
        "id": "TYLmRqI-RXnL"
      }
    },
    {
      "cell_type": "code",
      "source": [
        "x= 4.333\n",
        "type(x)\n"
      ],
      "metadata": {
        "id": "HszStRO6ReqY",
        "colab": {
          "base_uri": "https://localhost:8080/"
        },
        "outputId": "79640768-021a-411f-e489-31d2b3c7c978"
      },
      "execution_count": 8,
      "outputs": [
        {
          "output_type": "execute_result",
          "data": {
            "text/plain": [
              "float"
            ]
          },
          "metadata": {},
          "execution_count": 8
        }
      ]
    },
    {
      "cell_type": "markdown",
      "source": [
        "7 ) why below there is an error?"
      ],
      "metadata": {
        "id": "zcCFScHKRj0O"
      }
    },
    {
      "cell_type": "code",
      "source": [
        "_rr = 34\n",
        "1tg = 55\n",
        "sum = _rr + 1tg #The variable starts with the number is not acceptable"
      ],
      "metadata": {
        "id": "qR5QH_lWR0I0",
        "colab": {
          "base_uri": "https://localhost:8080/",
          "height": 134
        },
        "outputId": "21d8d27f-dc78-4214-80c9-2b765acd1ff7"
      },
      "execution_count": 9,
      "outputs": [
        {
          "output_type": "error",
          "ename": "SyntaxError",
          "evalue": "ignored",
          "traceback": [
            "\u001b[0;36m  File \u001b[0;32m\"<ipython-input-9-61410b414b15>\"\u001b[0;36m, line \u001b[0;32m2\u001b[0m\n\u001b[0;31m    1tg = 55\u001b[0m\n\u001b[0m     ^\u001b[0m\n\u001b[0;31mSyntaxError\u001b[0m\u001b[0;31m:\u001b[0m invalid syntax\n"
          ]
        }
      ]
    },
    {
      "cell_type": "markdown",
      "source": [
        "8 ) write a code that calculates how many seconds are in 40 minutes and 20 seconds."
      ],
      "metadata": {
        "id": "dZxKi6X4R_Hf"
      }
    },
    {
      "cell_type": "code",
      "source": [
        "#write your code here\n",
        "m = input (\"Please input the minutes: \")\n",
        "s = input (\"Please inpuit the seconds: \")\n",
        "total = int(m)*60 + int(s)\n",
        "print (\"The total seconds are: \",total)"
      ],
      "metadata": {
        "id": "8ZaCs1PGTSWf",
        "colab": {
          "base_uri": "https://localhost:8080/"
        },
        "outputId": "ec2c3468-6ed7-4219-88d5-afa0d6e580db"
      },
      "execution_count": 11,
      "outputs": [
        {
          "output_type": "stream",
          "name": "stdout",
          "text": [
            "Please input the minutes: 40\n",
            "Please inpuit the seconds: 20\n",
            "The total seconds are:  2420\n"
          ]
        }
      ]
    },
    {
      "cell_type": "markdown",
      "source": [
        "9 ) The volume of a sphere with radius r is 4/3 π r3. What is the volume of a sphere with radius 10?"
      ],
      "metadata": {
        "id": "-bdbz0eTTetS"
      }
    },
    {
      "cell_type": "code",
      "source": [
        "#Write your code here\n",
        "import math\n",
        "pi = math.pi\n",
        "r = input ('Please input the radius of the sphere: ')\n",
        "Vol = (4/3)*pi*(float(r)**3)\n",
        "print(\"The volume of the sphere with the radius =\",r, \" is: \",Vol)                "
      ],
      "metadata": {
        "id": "kvCpFl-5TkyJ",
        "colab": {
          "base_uri": "https://localhost:8080/"
        },
        "outputId": "8760c675-e5e9-406d-9d4a-ec5fe7df7de6"
      },
      "execution_count": 13,
      "outputs": [
        {
          "output_type": "stream",
          "name": "stdout",
          "text": [
            "Please input the radius of the sphere: 3\n",
            "The volume of the sphere with the radius = 3  is:  113.09733552923254\n"
          ]
        }
      ]
    }
  ]
}